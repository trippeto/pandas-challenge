{
 "cells": [
  {
   "cell_type": "code",
   "execution_count": 1,
   "metadata": {},
   "outputs": [],
   "source": [
    "# import dependencies\n",
    "import pandas as pd"
   ]
  },
  {
   "cell_type": "code",
   "execution_count": 2,
   "metadata": {},
   "outputs": [],
   "source": [
    "# define file path and read in file\n",
    "heroes_file = 'Resources/HeroesOfPymoli_purchase_data.csv'\n",
    "heroes_df = pd.read_csv(heroes_file)"
   ]
  },
  {
   "cell_type": "code",
   "execution_count": 3,
   "metadata": {},
   "outputs": [
    {
     "data": {
      "text/html": [
       "<div>\n",
       "<style scoped>\n",
       "    .dataframe tbody tr th:only-of-type {\n",
       "        vertical-align: middle;\n",
       "    }\n",
       "\n",
       "    .dataframe tbody tr th {\n",
       "        vertical-align: top;\n",
       "    }\n",
       "\n",
       "    .dataframe thead th {\n",
       "        text-align: right;\n",
       "    }\n",
       "</style>\n",
       "<table border=\"1\" class=\"dataframe\">\n",
       "  <thead>\n",
       "    <tr style=\"text-align: right;\">\n",
       "      <th></th>\n",
       "      <th>Purchase ID</th>\n",
       "      <th>SN</th>\n",
       "      <th>Age</th>\n",
       "      <th>Gender</th>\n",
       "      <th>Item ID</th>\n",
       "      <th>Item Name</th>\n",
       "      <th>Price</th>\n",
       "    </tr>\n",
       "  </thead>\n",
       "  <tbody>\n",
       "    <tr>\n",
       "      <th>0</th>\n",
       "      <td>0</td>\n",
       "      <td>Lisim78</td>\n",
       "      <td>20</td>\n",
       "      <td>Male</td>\n",
       "      <td>108</td>\n",
       "      <td>Extraction, Quickblade Of Trembling Hands</td>\n",
       "      <td>3.53</td>\n",
       "    </tr>\n",
       "    <tr>\n",
       "      <th>1</th>\n",
       "      <td>1</td>\n",
       "      <td>Lisovynya38</td>\n",
       "      <td>40</td>\n",
       "      <td>Male</td>\n",
       "      <td>143</td>\n",
       "      <td>Frenzied Scimitar</td>\n",
       "      <td>1.56</td>\n",
       "    </tr>\n",
       "    <tr>\n",
       "      <th>2</th>\n",
       "      <td>2</td>\n",
       "      <td>Ithergue48</td>\n",
       "      <td>24</td>\n",
       "      <td>Male</td>\n",
       "      <td>92</td>\n",
       "      <td>Final Critic</td>\n",
       "      <td>4.88</td>\n",
       "    </tr>\n",
       "    <tr>\n",
       "      <th>3</th>\n",
       "      <td>3</td>\n",
       "      <td>Chamassasya86</td>\n",
       "      <td>24</td>\n",
       "      <td>Male</td>\n",
       "      <td>100</td>\n",
       "      <td>Blindscythe</td>\n",
       "      <td>3.27</td>\n",
       "    </tr>\n",
       "    <tr>\n",
       "      <th>4</th>\n",
       "      <td>4</td>\n",
       "      <td>Iskosia90</td>\n",
       "      <td>23</td>\n",
       "      <td>Male</td>\n",
       "      <td>131</td>\n",
       "      <td>Fury</td>\n",
       "      <td>1.44</td>\n",
       "    </tr>\n",
       "  </tbody>\n",
       "</table>\n",
       "</div>"
      ],
      "text/plain": [
       "   Purchase ID             SN  Age Gender  Item ID  \\\n",
       "0            0        Lisim78   20   Male      108   \n",
       "1            1    Lisovynya38   40   Male      143   \n",
       "2            2     Ithergue48   24   Male       92   \n",
       "3            3  Chamassasya86   24   Male      100   \n",
       "4            4      Iskosia90   23   Male      131   \n",
       "\n",
       "                                   Item Name  Price  \n",
       "0  Extraction, Quickblade Of Trembling Hands   3.53  \n",
       "1                          Frenzied Scimitar   1.56  \n",
       "2                               Final Critic   4.88  \n",
       "3                                Blindscythe   3.27  \n",
       "4                                       Fury   1.44  "
      ]
     },
     "execution_count": 3,
     "metadata": {},
     "output_type": "execute_result"
    }
   ],
   "source": [
    "# ensure file read in properly\n",
    "heroes_df.head()"
   ]
  },
  {
   "cell_type": "code",
   "execution_count": 4,
   "metadata": {},
   "outputs": [
    {
     "data": {
      "text/plain": [
       "Purchase ID    780\n",
       "SN             780\n",
       "Age            780\n",
       "Gender         780\n",
       "Item ID        780\n",
       "Item Name      780\n",
       "Price          780\n",
       "dtype: int64"
      ]
     },
     "execution_count": 4,
     "metadata": {},
     "output_type": "execute_result"
    }
   ],
   "source": [
    "# ensure no missing or faulty data \n",
    "heroes_df.count()"
   ]
  },
  {
   "cell_type": "code",
   "execution_count": 5,
   "metadata": {},
   "outputs": [
    {
     "data": {
      "text/html": [
       "<div>\n",
       "<style scoped>\n",
       "    .dataframe tbody tr th:only-of-type {\n",
       "        vertical-align: middle;\n",
       "    }\n",
       "\n",
       "    .dataframe tbody tr th {\n",
       "        vertical-align: top;\n",
       "    }\n",
       "\n",
       "    .dataframe thead th {\n",
       "        text-align: right;\n",
       "    }\n",
       "</style>\n",
       "<table border=\"1\" class=\"dataframe\">\n",
       "  <thead>\n",
       "    <tr style=\"text-align: right;\">\n",
       "      <th></th>\n",
       "      <th>Total Players</th>\n",
       "    </tr>\n",
       "  </thead>\n",
       "  <tbody>\n",
       "    <tr>\n",
       "      <th>0</th>\n",
       "      <td>576</td>\n",
       "    </tr>\n",
       "  </tbody>\n",
       "</table>\n",
       "</div>"
      ],
      "text/plain": [
       "   Total Players\n",
       "0            576"
      ]
     },
     "execution_count": 5,
     "metadata": {},
     "output_type": "execute_result"
    }
   ],
   "source": [
    "# display the total number of players\n",
    "player_count = len(heroes_df['SN'].unique())\n",
    "tot_players_df = pd.DataFrame({\"Total Players\": [player_count]})\n",
    "tot_players_df"
   ]
  },
  {
   "cell_type": "code",
   "execution_count": 6,
   "metadata": {},
   "outputs": [
    {
     "data": {
      "text/html": [
       "<style  type=\"text/css\" >\n",
       "</style><table id=\"T_bb3c5d66_c557_11ea_b00d_e82a44a111ac\" ><thead>    <tr>        <th class=\"blank level0\" ></th>        <th class=\"col_heading level0 col0\" >Number of Unique Items</th>        <th class=\"col_heading level0 col1\" >Average Price</th>        <th class=\"col_heading level0 col2\" >Number of Purchases</th>        <th class=\"col_heading level0 col3\" >Total Revenue</th>    </tr></thead><tbody>\n",
       "                <tr>\n",
       "                        <th id=\"T_bb3c5d66_c557_11ea_b00d_e82a44a111aclevel0_row0\" class=\"row_heading level0 row0\" >0</th>\n",
       "                        <td id=\"T_bb3c5d66_c557_11ea_b00d_e82a44a111acrow0_col0\" class=\"data row0 col0\" >179</td>\n",
       "                        <td id=\"T_bb3c5d66_c557_11ea_b00d_e82a44a111acrow0_col1\" class=\"data row0 col1\" >$3.05</td>\n",
       "                        <td id=\"T_bb3c5d66_c557_11ea_b00d_e82a44a111acrow0_col2\" class=\"data row0 col2\" >780</td>\n",
       "                        <td id=\"T_bb3c5d66_c557_11ea_b00d_e82a44a111acrow0_col3\" class=\"data row0 col3\" >$2,379.77</td>\n",
       "            </tr>\n",
       "    </tbody></table>"
      ],
      "text/plain": [
       "<pandas.io.formats.style.Styler at 0x186a49f4dc8>"
      ]
     },
     "execution_count": 6,
     "metadata": {},
     "output_type": "execute_result"
    }
   ],
   "source": [
    "# Puchasing Analysis (Total)\n",
    "num_of_unique_items = len(heroes_df['Item ID'].unique())\n",
    "avg_price = heroes_df['Price'].mean()\n",
    "num_of_purchases = len(heroes_df['Purchase ID'].unique())\n",
    "tot_revenue = heroes_df['Price'].sum()\n",
    "tot_analysis = [{'Number of Unique Items': num_of_unique_items,\n",
    "                  'Average Price': avg_price,\n",
    "                  'Number of Purchases': num_of_purchases,\n",
    "                  'Total Revenue': tot_revenue}]\n",
    "tot_analysis_df = pd.DataFrame(tot_analysis)\n",
    "tot_analysis_df.style.format({'Average Price': '${:.2f}', 'Total Revenue': '${:,.2f}'})"
   ]
  },
  {
   "cell_type": "code",
   "execution_count": 7,
   "metadata": {},
   "outputs": [
    {
     "data": {
      "text/html": [
       "<style  type=\"text/css\" >\n",
       "</style><table id=\"T_bc57379a_c557_11ea_b934_e82a44a111ac\" ><thead>    <tr>        <th class=\"blank level0\" ></th>        <th class=\"col_heading level0 col0\" >Total Count</th>        <th class=\"col_heading level0 col1\" >Percentage of Players</th>    </tr></thead><tbody>\n",
       "                <tr>\n",
       "                        <th id=\"T_bc57379a_c557_11ea_b934_e82a44a111aclevel0_row0\" class=\"row_heading level0 row0\" >Male</th>\n",
       "                        <td id=\"T_bc57379a_c557_11ea_b934_e82a44a111acrow0_col0\" class=\"data row0 col0\" >484</td>\n",
       "                        <td id=\"T_bc57379a_c557_11ea_b934_e82a44a111acrow0_col1\" class=\"data row0 col1\" >84.03%</td>\n",
       "            </tr>\n",
       "            <tr>\n",
       "                        <th id=\"T_bc57379a_c557_11ea_b934_e82a44a111aclevel0_row1\" class=\"row_heading level0 row1\" >Female</th>\n",
       "                        <td id=\"T_bc57379a_c557_11ea_b934_e82a44a111acrow1_col0\" class=\"data row1 col0\" >81</td>\n",
       "                        <td id=\"T_bc57379a_c557_11ea_b934_e82a44a111acrow1_col1\" class=\"data row1 col1\" >14.06%</td>\n",
       "            </tr>\n",
       "            <tr>\n",
       "                        <th id=\"T_bc57379a_c557_11ea_b934_e82a44a111aclevel0_row2\" class=\"row_heading level0 row2\" >Other / Non-Disclosed</th>\n",
       "                        <td id=\"T_bc57379a_c557_11ea_b934_e82a44a111acrow2_col0\" class=\"data row2 col0\" >11</td>\n",
       "                        <td id=\"T_bc57379a_c557_11ea_b934_e82a44a111acrow2_col1\" class=\"data row2 col1\" >1.91%</td>\n",
       "            </tr>\n",
       "    </tbody></table>"
      ],
      "text/plain": [
       "<pandas.io.formats.style.Styler at 0x186a5299348>"
      ]
     },
     "execution_count": 7,
     "metadata": {},
     "output_type": "execute_result"
    }
   ],
   "source": [
    "# Gender Demographics\n",
    "gender_df = heroes_df.drop_duplicates(['SN'])\n",
    "gender_count = gender_df['Gender'].value_counts()\n",
    "gender_count_df = pd.DataFrame(gender_count)\n",
    "gender_count_df = gender_count_df.rename(columns={'Gender':'Total Count'})\n",
    "gender_count_df['Percentage of Players'] = gender_count/player_count\n",
    "gender_count_df.style.format({'Percentage of Players': '{:.2%}'})"
   ]
  },
  {
   "cell_type": "code",
   "execution_count": 8,
   "metadata": {},
   "outputs": [
    {
     "data": {
      "text/html": [
       "<style  type=\"text/css\" >\n",
       "</style><table id=\"T_bda69fc8_c557_11ea_93d9_e82a44a111ac\" ><thead>    <tr>        <th class=\"blank level0\" ></th>        <th class=\"col_heading level0 col0\" >Purchase Count</th>        <th class=\"col_heading level0 col1\" >Average Purchase Price</th>        <th class=\"col_heading level0 col2\" >Total Purchase Value</th>        <th class=\"col_heading level0 col3\" >Avg Total Purchase per Person</th>    </tr></thead><tbody>\n",
       "                <tr>\n",
       "                        <th id=\"T_bda69fc8_c557_11ea_93d9_e82a44a111aclevel0_row0\" class=\"row_heading level0 row0\" >Female</th>\n",
       "                        <td id=\"T_bda69fc8_c557_11ea_93d9_e82a44a111acrow0_col0\" class=\"data row0 col0\" >113</td>\n",
       "                        <td id=\"T_bda69fc8_c557_11ea_93d9_e82a44a111acrow0_col1\" class=\"data row0 col1\" >$3.20</td>\n",
       "                        <td id=\"T_bda69fc8_c557_11ea_93d9_e82a44a111acrow0_col2\" class=\"data row0 col2\" >$361.94</td>\n",
       "                        <td id=\"T_bda69fc8_c557_11ea_93d9_e82a44a111acrow0_col3\" class=\"data row0 col3\" >$4.47</td>\n",
       "            </tr>\n",
       "            <tr>\n",
       "                        <th id=\"T_bda69fc8_c557_11ea_93d9_e82a44a111aclevel0_row1\" class=\"row_heading level0 row1\" >Male</th>\n",
       "                        <td id=\"T_bda69fc8_c557_11ea_93d9_e82a44a111acrow1_col0\" class=\"data row1 col0\" >652</td>\n",
       "                        <td id=\"T_bda69fc8_c557_11ea_93d9_e82a44a111acrow1_col1\" class=\"data row1 col1\" >$3.02</td>\n",
       "                        <td id=\"T_bda69fc8_c557_11ea_93d9_e82a44a111acrow1_col2\" class=\"data row1 col2\" >$1,967.64</td>\n",
       "                        <td id=\"T_bda69fc8_c557_11ea_93d9_e82a44a111acrow1_col3\" class=\"data row1 col3\" >$4.07</td>\n",
       "            </tr>\n",
       "            <tr>\n",
       "                        <th id=\"T_bda69fc8_c557_11ea_93d9_e82a44a111aclevel0_row2\" class=\"row_heading level0 row2\" >Other / Non-Disclosed</th>\n",
       "                        <td id=\"T_bda69fc8_c557_11ea_93d9_e82a44a111acrow2_col0\" class=\"data row2 col0\" >15</td>\n",
       "                        <td id=\"T_bda69fc8_c557_11ea_93d9_e82a44a111acrow2_col1\" class=\"data row2 col1\" >$3.35</td>\n",
       "                        <td id=\"T_bda69fc8_c557_11ea_93d9_e82a44a111acrow2_col2\" class=\"data row2 col2\" >$50.19</td>\n",
       "                        <td id=\"T_bda69fc8_c557_11ea_93d9_e82a44a111acrow2_col3\" class=\"data row2 col3\" >$4.56</td>\n",
       "            </tr>\n",
       "    </tbody></table>"
      ],
      "text/plain": [
       "<pandas.io.formats.style.Styler at 0x186a57fee08>"
      ]
     },
     "execution_count": 8,
     "metadata": {},
     "output_type": "execute_result"
    }
   ],
   "source": [
    "# Purchasing Analysis (Gender)\n",
    "purchase_count = heroes_df['Gender'].value_counts()\n",
    "tot_purchase_value = heroes_df.groupby('Gender').Price.sum()\n",
    "avg_purchase_price = tot_purchase_value/purchase_count\n",
    "avg_total_pp = tot_purchase_value/gender_count\n",
    "purchase_summary_gender_df = pd.DataFrame({'Purchase Count': purchase_count,\n",
    "                                    'Average Purchase Price': avg_purchase_price,\n",
    "                                          'Total Purchase Value': tot_purchase_value,\n",
    "                                          'Avg Total Purchase per Person': avg_total_pp})\n",
    "purchase_summary_gender_df.style.format({'Average Purchase Price': '${:.2f}',\n",
    "                                        'Total Purchase Value': '${:,.2f}',\n",
    "                                        'Avg Total Purchase per Person': '${:.2f}'})"
   ]
  },
  {
   "cell_type": "code",
   "execution_count": 9,
   "metadata": {},
   "outputs": [
    {
     "data": {
      "text/html": [
       "<style  type=\"text/css\" >\n",
       "</style><table id=\"T_beb1b392_c557_11ea_97e5_e82a44a111ac\" ><thead>    <tr>        <th class=\"blank level0\" ></th>        <th class=\"col_heading level0 col0\" >Total Count</th>        <th class=\"col_heading level0 col1\" >Percentage of Players</th>    </tr></thead><tbody>\n",
       "                <tr>\n",
       "                        <th id=\"T_beb1b392_c557_11ea_97e5_e82a44a111aclevel0_row0\" class=\"row_heading level0 row0\" ><10</th>\n",
       "                        <td id=\"T_beb1b392_c557_11ea_97e5_e82a44a111acrow0_col0\" class=\"data row0 col0\" >17</td>\n",
       "                        <td id=\"T_beb1b392_c557_11ea_97e5_e82a44a111acrow0_col1\" class=\"data row0 col1\" >2.95%</td>\n",
       "            </tr>\n",
       "            <tr>\n",
       "                        <th id=\"T_beb1b392_c557_11ea_97e5_e82a44a111aclevel0_row1\" class=\"row_heading level0 row1\" >10-14</th>\n",
       "                        <td id=\"T_beb1b392_c557_11ea_97e5_e82a44a111acrow1_col0\" class=\"data row1 col0\" >22</td>\n",
       "                        <td id=\"T_beb1b392_c557_11ea_97e5_e82a44a111acrow1_col1\" class=\"data row1 col1\" >3.82%</td>\n",
       "            </tr>\n",
       "            <tr>\n",
       "                        <th id=\"T_beb1b392_c557_11ea_97e5_e82a44a111aclevel0_row2\" class=\"row_heading level0 row2\" >15-19</th>\n",
       "                        <td id=\"T_beb1b392_c557_11ea_97e5_e82a44a111acrow2_col0\" class=\"data row2 col0\" >107</td>\n",
       "                        <td id=\"T_beb1b392_c557_11ea_97e5_e82a44a111acrow2_col1\" class=\"data row2 col1\" >18.58%</td>\n",
       "            </tr>\n",
       "            <tr>\n",
       "                        <th id=\"T_beb1b392_c557_11ea_97e5_e82a44a111aclevel0_row3\" class=\"row_heading level0 row3\" >20-24</th>\n",
       "                        <td id=\"T_beb1b392_c557_11ea_97e5_e82a44a111acrow3_col0\" class=\"data row3 col0\" >258</td>\n",
       "                        <td id=\"T_beb1b392_c557_11ea_97e5_e82a44a111acrow3_col1\" class=\"data row3 col1\" >44.79%</td>\n",
       "            </tr>\n",
       "            <tr>\n",
       "                        <th id=\"T_beb1b392_c557_11ea_97e5_e82a44a111aclevel0_row4\" class=\"row_heading level0 row4\" >25-29</th>\n",
       "                        <td id=\"T_beb1b392_c557_11ea_97e5_e82a44a111acrow4_col0\" class=\"data row4 col0\" >77</td>\n",
       "                        <td id=\"T_beb1b392_c557_11ea_97e5_e82a44a111acrow4_col1\" class=\"data row4 col1\" >13.37%</td>\n",
       "            </tr>\n",
       "            <tr>\n",
       "                        <th id=\"T_beb1b392_c557_11ea_97e5_e82a44a111aclevel0_row5\" class=\"row_heading level0 row5\" >30-34</th>\n",
       "                        <td id=\"T_beb1b392_c557_11ea_97e5_e82a44a111acrow5_col0\" class=\"data row5 col0\" >52</td>\n",
       "                        <td id=\"T_beb1b392_c557_11ea_97e5_e82a44a111acrow5_col1\" class=\"data row5 col1\" >9.03%</td>\n",
       "            </tr>\n",
       "            <tr>\n",
       "                        <th id=\"T_beb1b392_c557_11ea_97e5_e82a44a111aclevel0_row6\" class=\"row_heading level0 row6\" >35-39</th>\n",
       "                        <td id=\"T_beb1b392_c557_11ea_97e5_e82a44a111acrow6_col0\" class=\"data row6 col0\" >31</td>\n",
       "                        <td id=\"T_beb1b392_c557_11ea_97e5_e82a44a111acrow6_col1\" class=\"data row6 col1\" >5.38%</td>\n",
       "            </tr>\n",
       "            <tr>\n",
       "                        <th id=\"T_beb1b392_c557_11ea_97e5_e82a44a111aclevel0_row7\" class=\"row_heading level0 row7\" >40+</th>\n",
       "                        <td id=\"T_beb1b392_c557_11ea_97e5_e82a44a111acrow7_col0\" class=\"data row7 col0\" >12</td>\n",
       "                        <td id=\"T_beb1b392_c557_11ea_97e5_e82a44a111acrow7_col1\" class=\"data row7 col1\" >2.08%</td>\n",
       "            </tr>\n",
       "    </tbody></table>"
      ],
      "text/plain": [
       "<pandas.io.formats.style.Styler at 0x186a581ca08>"
      ]
     },
     "execution_count": 9,
     "metadata": {},
     "output_type": "execute_result"
    }
   ],
   "source": [
    "# Age Demographics\n",
    "age_df = gender_df.copy()\n",
    "age_bins = [0, 9, 14, 19, 24, 29, 34, 39, 100]\n",
    "age_bin_names = ['<10', '10-14', '15-19', '20-24', '25-29', '30-34', '35-39', '40+']\n",
    "age_df['Age Range'] = pd.cut(gender_df['Age'], age_bins, labels=age_bin_names, include_lowest=True)\n",
    "age_count = age_df['Age Range'].value_counts()\n",
    "pct_of_players = age_count/player_count\n",
    "age_summary_df = pd.DataFrame({'Total Count': age_count, 'Percentage of Players': pct_of_players})\n",
    "age_summary_df.sort_index(axis = 0).style.format({'Percentage of Players': '{:.2%}'})"
   ]
  },
  {
   "cell_type": "code",
   "execution_count": 10,
   "metadata": {},
   "outputs": [
    {
     "data": {
      "text/html": [
       "<style  type=\"text/css\" >\n",
       "</style><table id=\"T_c05b59fa_c557_11ea_8a7a_e82a44a111ac\" ><thead>    <tr>        <th class=\"blank level0\" ></th>        <th class=\"col_heading level0 col0\" >Purchase Count</th>        <th class=\"col_heading level0 col1\" >Average Purchase Price</th>        <th class=\"col_heading level0 col2\" >Total Purchase Value</th>        <th class=\"col_heading level0 col3\" >Avg Total Purchase per Person</th>    </tr></thead><tbody>\n",
       "                <tr>\n",
       "                        <th id=\"T_c05b59fa_c557_11ea_8a7a_e82a44a111aclevel0_row0\" class=\"row_heading level0 row0\" ><10</th>\n",
       "                        <td id=\"T_c05b59fa_c557_11ea_8a7a_e82a44a111acrow0_col0\" class=\"data row0 col0\" >23</td>\n",
       "                        <td id=\"T_c05b59fa_c557_11ea_8a7a_e82a44a111acrow0_col1\" class=\"data row0 col1\" >$3.35</td>\n",
       "                        <td id=\"T_c05b59fa_c557_11ea_8a7a_e82a44a111acrow0_col2\" class=\"data row0 col2\" >$77.13</td>\n",
       "                        <td id=\"T_c05b59fa_c557_11ea_8a7a_e82a44a111acrow0_col3\" class=\"data row0 col3\" >$4.54</td>\n",
       "            </tr>\n",
       "            <tr>\n",
       "                        <th id=\"T_c05b59fa_c557_11ea_8a7a_e82a44a111aclevel0_row1\" class=\"row_heading level0 row1\" >10-14</th>\n",
       "                        <td id=\"T_c05b59fa_c557_11ea_8a7a_e82a44a111acrow1_col0\" class=\"data row1 col0\" >28</td>\n",
       "                        <td id=\"T_c05b59fa_c557_11ea_8a7a_e82a44a111acrow1_col1\" class=\"data row1 col1\" >$2.96</td>\n",
       "                        <td id=\"T_c05b59fa_c557_11ea_8a7a_e82a44a111acrow1_col2\" class=\"data row1 col2\" >$82.78</td>\n",
       "                        <td id=\"T_c05b59fa_c557_11ea_8a7a_e82a44a111acrow1_col3\" class=\"data row1 col3\" >$3.76</td>\n",
       "            </tr>\n",
       "            <tr>\n",
       "                        <th id=\"T_c05b59fa_c557_11ea_8a7a_e82a44a111aclevel0_row2\" class=\"row_heading level0 row2\" >15-19</th>\n",
       "                        <td id=\"T_c05b59fa_c557_11ea_8a7a_e82a44a111acrow2_col0\" class=\"data row2 col0\" >136</td>\n",
       "                        <td id=\"T_c05b59fa_c557_11ea_8a7a_e82a44a111acrow2_col1\" class=\"data row2 col1\" >$3.04</td>\n",
       "                        <td id=\"T_c05b59fa_c557_11ea_8a7a_e82a44a111acrow2_col2\" class=\"data row2 col2\" >$412.89</td>\n",
       "                        <td id=\"T_c05b59fa_c557_11ea_8a7a_e82a44a111acrow2_col3\" class=\"data row2 col3\" >$3.86</td>\n",
       "            </tr>\n",
       "            <tr>\n",
       "                        <th id=\"T_c05b59fa_c557_11ea_8a7a_e82a44a111aclevel0_row3\" class=\"row_heading level0 row3\" >20-24</th>\n",
       "                        <td id=\"T_c05b59fa_c557_11ea_8a7a_e82a44a111acrow3_col0\" class=\"data row3 col0\" >365</td>\n",
       "                        <td id=\"T_c05b59fa_c557_11ea_8a7a_e82a44a111acrow3_col1\" class=\"data row3 col1\" >$3.05</td>\n",
       "                        <td id=\"T_c05b59fa_c557_11ea_8a7a_e82a44a111acrow3_col2\" class=\"data row3 col2\" >$1,114.06</td>\n",
       "                        <td id=\"T_c05b59fa_c557_11ea_8a7a_e82a44a111acrow3_col3\" class=\"data row3 col3\" >$4.32</td>\n",
       "            </tr>\n",
       "            <tr>\n",
       "                        <th id=\"T_c05b59fa_c557_11ea_8a7a_e82a44a111aclevel0_row4\" class=\"row_heading level0 row4\" >25-29</th>\n",
       "                        <td id=\"T_c05b59fa_c557_11ea_8a7a_e82a44a111acrow4_col0\" class=\"data row4 col0\" >101</td>\n",
       "                        <td id=\"T_c05b59fa_c557_11ea_8a7a_e82a44a111acrow4_col1\" class=\"data row4 col1\" >$2.90</td>\n",
       "                        <td id=\"T_c05b59fa_c557_11ea_8a7a_e82a44a111acrow4_col2\" class=\"data row4 col2\" >$293.00</td>\n",
       "                        <td id=\"T_c05b59fa_c557_11ea_8a7a_e82a44a111acrow4_col3\" class=\"data row4 col3\" >$3.81</td>\n",
       "            </tr>\n",
       "            <tr>\n",
       "                        <th id=\"T_c05b59fa_c557_11ea_8a7a_e82a44a111aclevel0_row5\" class=\"row_heading level0 row5\" >30-34</th>\n",
       "                        <td id=\"T_c05b59fa_c557_11ea_8a7a_e82a44a111acrow5_col0\" class=\"data row5 col0\" >73</td>\n",
       "                        <td id=\"T_c05b59fa_c557_11ea_8a7a_e82a44a111acrow5_col1\" class=\"data row5 col1\" >$2.93</td>\n",
       "                        <td id=\"T_c05b59fa_c557_11ea_8a7a_e82a44a111acrow5_col2\" class=\"data row5 col2\" >$214.00</td>\n",
       "                        <td id=\"T_c05b59fa_c557_11ea_8a7a_e82a44a111acrow5_col3\" class=\"data row5 col3\" >$4.12</td>\n",
       "            </tr>\n",
       "            <tr>\n",
       "                        <th id=\"T_c05b59fa_c557_11ea_8a7a_e82a44a111aclevel0_row6\" class=\"row_heading level0 row6\" >35-39</th>\n",
       "                        <td id=\"T_c05b59fa_c557_11ea_8a7a_e82a44a111acrow6_col0\" class=\"data row6 col0\" >41</td>\n",
       "                        <td id=\"T_c05b59fa_c557_11ea_8a7a_e82a44a111acrow6_col1\" class=\"data row6 col1\" >$3.60</td>\n",
       "                        <td id=\"T_c05b59fa_c557_11ea_8a7a_e82a44a111acrow6_col2\" class=\"data row6 col2\" >$147.67</td>\n",
       "                        <td id=\"T_c05b59fa_c557_11ea_8a7a_e82a44a111acrow6_col3\" class=\"data row6 col3\" >$4.76</td>\n",
       "            </tr>\n",
       "            <tr>\n",
       "                        <th id=\"T_c05b59fa_c557_11ea_8a7a_e82a44a111aclevel0_row7\" class=\"row_heading level0 row7\" >40+</th>\n",
       "                        <td id=\"T_c05b59fa_c557_11ea_8a7a_e82a44a111acrow7_col0\" class=\"data row7 col0\" >13</td>\n",
       "                        <td id=\"T_c05b59fa_c557_11ea_8a7a_e82a44a111acrow7_col1\" class=\"data row7 col1\" >$2.94</td>\n",
       "                        <td id=\"T_c05b59fa_c557_11ea_8a7a_e82a44a111acrow7_col2\" class=\"data row7 col2\" >$38.24</td>\n",
       "                        <td id=\"T_c05b59fa_c557_11ea_8a7a_e82a44a111acrow7_col3\" class=\"data row7 col3\" >$3.19</td>\n",
       "            </tr>\n",
       "    </tbody></table>"
      ],
      "text/plain": [
       "<pandas.io.formats.style.Styler at 0x186a581cf08>"
      ]
     },
     "execution_count": 10,
     "metadata": {},
     "output_type": "execute_result"
    }
   ],
   "source": [
    "# Purchase Analysis (Age)\n",
    "purchase_df = heroes_df.copy()\n",
    "purchase_df['Age Ranges'] = pd.cut(purchase_df['Age'], age_bins, labels=age_bin_names, include_lowest=True)\n",
    "pur_count = purchase_df['Age Ranges'].value_counts()\n",
    "tot_pur_value = purchase_df.groupby('Age Ranges').Price.sum()\n",
    "avg_pur_price = tot_pur_value/pur_count\n",
    "avg_tot_pp = tot_pur_value/age_count\n",
    "purchase_summary_age_df = pd.DataFrame({'Purchase Count': pur_count,\n",
    "                                        'Average Purchase Price': avg_pur_price,\n",
    "                                        'Total Purchase Value': tot_pur_value,\n",
    "                                        'Avg Total Purchase per Person': avg_tot_pp})\n",
    "purchase_summary_age_df.style.format({'Average Purchase Price': '${:.2f}',\n",
    "                                        'Total Purchase Value': '${:,.2f}',\n",
    "                                        'Avg Total Purchase per Person': '${:.2f}'})"
   ]
  },
  {
   "cell_type": "code",
   "execution_count": 11,
   "metadata": {},
   "outputs": [
    {
     "data": {
      "text/html": [
       "<style  type=\"text/css\" >\n",
       "</style><table id=\"T_c1a54776_c557_11ea_83ff_e82a44a111ac\" ><thead>    <tr>        <th class=\"blank level0\" ></th>        <th class=\"col_heading level0 col0\" >Purchase Count</th>        <th class=\"col_heading level0 col1\" >Average Purchase Price</th>        <th class=\"col_heading level0 col2\" >Total Purchase Value</th>    </tr></thead><tbody>\n",
       "                <tr>\n",
       "                        <th id=\"T_c1a54776_c557_11ea_83ff_e82a44a111aclevel0_row0\" class=\"row_heading level0 row0\" >Lisosia93</th>\n",
       "                        <td id=\"T_c1a54776_c557_11ea_83ff_e82a44a111acrow0_col0\" class=\"data row0 col0\" >5</td>\n",
       "                        <td id=\"T_c1a54776_c557_11ea_83ff_e82a44a111acrow0_col1\" class=\"data row0 col1\" >$3.79</td>\n",
       "                        <td id=\"T_c1a54776_c557_11ea_83ff_e82a44a111acrow0_col2\" class=\"data row0 col2\" >$18.96</td>\n",
       "            </tr>\n",
       "            <tr>\n",
       "                        <th id=\"T_c1a54776_c557_11ea_83ff_e82a44a111aclevel0_row1\" class=\"row_heading level0 row1\" >Idastidru52</th>\n",
       "                        <td id=\"T_c1a54776_c557_11ea_83ff_e82a44a111acrow1_col0\" class=\"data row1 col0\" >4</td>\n",
       "                        <td id=\"T_c1a54776_c557_11ea_83ff_e82a44a111acrow1_col1\" class=\"data row1 col1\" >$3.86</td>\n",
       "                        <td id=\"T_c1a54776_c557_11ea_83ff_e82a44a111acrow1_col2\" class=\"data row1 col2\" >$15.45</td>\n",
       "            </tr>\n",
       "            <tr>\n",
       "                        <th id=\"T_c1a54776_c557_11ea_83ff_e82a44a111aclevel0_row2\" class=\"row_heading level0 row2\" >Chamjask73</th>\n",
       "                        <td id=\"T_c1a54776_c557_11ea_83ff_e82a44a111acrow2_col0\" class=\"data row2 col0\" >3</td>\n",
       "                        <td id=\"T_c1a54776_c557_11ea_83ff_e82a44a111acrow2_col1\" class=\"data row2 col1\" >$4.61</td>\n",
       "                        <td id=\"T_c1a54776_c557_11ea_83ff_e82a44a111acrow2_col2\" class=\"data row2 col2\" >$13.83</td>\n",
       "            </tr>\n",
       "            <tr>\n",
       "                        <th id=\"T_c1a54776_c557_11ea_83ff_e82a44a111aclevel0_row3\" class=\"row_heading level0 row3\" >Iral74</th>\n",
       "                        <td id=\"T_c1a54776_c557_11ea_83ff_e82a44a111acrow3_col0\" class=\"data row3 col0\" >4</td>\n",
       "                        <td id=\"T_c1a54776_c557_11ea_83ff_e82a44a111acrow3_col1\" class=\"data row3 col1\" >$3.40</td>\n",
       "                        <td id=\"T_c1a54776_c557_11ea_83ff_e82a44a111acrow3_col2\" class=\"data row3 col2\" >$13.62</td>\n",
       "            </tr>\n",
       "            <tr>\n",
       "                        <th id=\"T_c1a54776_c557_11ea_83ff_e82a44a111aclevel0_row4\" class=\"row_heading level0 row4\" >Iskadarya95</th>\n",
       "                        <td id=\"T_c1a54776_c557_11ea_83ff_e82a44a111acrow4_col0\" class=\"data row4 col0\" >3</td>\n",
       "                        <td id=\"T_c1a54776_c557_11ea_83ff_e82a44a111acrow4_col1\" class=\"data row4 col1\" >$4.37</td>\n",
       "                        <td id=\"T_c1a54776_c557_11ea_83ff_e82a44a111acrow4_col2\" class=\"data row4 col2\" >$13.10</td>\n",
       "            </tr>\n",
       "    </tbody></table>"
      ],
      "text/plain": [
       "<pandas.io.formats.style.Styler at 0x186a5823748>"
      ]
     },
     "execution_count": 11,
     "metadata": {},
     "output_type": "execute_result"
    }
   ],
   "source": [
    "# Top Spenders\n",
    "spenders_df = heroes_df.copy()\n",
    "spenders_pur_count = spenders_df['SN'].value_counts()\n",
    "spenders_tot_purchase = spenders_df.groupby('SN').Price.sum()\n",
    "spenders_avg_pur_price = spenders_tot_purchase/spenders_pur_count\n",
    "spenders_summary_df = pd.DataFrame({'Purchase Count': spenders_pur_count,\n",
    "                                   'Average Purchase Price': spenders_avg_pur_price,\n",
    "                                   'Total Purchase Value': spenders_tot_purchase})\n",
    "spenders_summary_df = spenders_summary_df.sort_values('Total Purchase Value', ascending=False)\n",
    "spenders_summary_df.head().style.format({'Average Purchase Price': '${:.2f}',\n",
    "                                        'Total Purchase Value': '${:,.2f}'})"
   ]
  },
  {
   "cell_type": "code",
   "execution_count": 12,
   "metadata": {},
   "outputs": [
    {
     "data": {
      "text/html": [
       "<style  type=\"text/css\" >\n",
       "</style><table id=\"T_c36fc382_c557_11ea_88f3_e82a44a111ac\" ><thead>    <tr>        <th class=\"blank\" ></th>        <th class=\"blank level0\" ></th>        <th class=\"col_heading level0 col0\" >Purchase Count</th>        <th class=\"col_heading level0 col1\" >Item Price</th>        <th class=\"col_heading level0 col2\" >Total Purchase Value</th>    </tr>    <tr>        <th class=\"index_name level0\" >Item ID</th>        <th class=\"index_name level1\" >Item Name</th>        <th class=\"blank\" ></th>        <th class=\"blank\" ></th>        <th class=\"blank\" ></th>    </tr></thead><tbody>\n",
       "                <tr>\n",
       "                        <th id=\"T_c36fc382_c557_11ea_88f3_e82a44a111aclevel0_row0\" class=\"row_heading level0 row0\" >92</th>\n",
       "                        <th id=\"T_c36fc382_c557_11ea_88f3_e82a44a111aclevel1_row0\" class=\"row_heading level1 row0\" >Final Critic</th>\n",
       "                        <td id=\"T_c36fc382_c557_11ea_88f3_e82a44a111acrow0_col0\" class=\"data row0 col0\" >13</td>\n",
       "                        <td id=\"T_c36fc382_c557_11ea_88f3_e82a44a111acrow0_col1\" class=\"data row0 col1\" >$4.88</td>\n",
       "                        <td id=\"T_c36fc382_c557_11ea_88f3_e82a44a111acrow0_col2\" class=\"data row0 col2\" >$59.99</td>\n",
       "            </tr>\n",
       "            <tr>\n",
       "                        <th id=\"T_c36fc382_c557_11ea_88f3_e82a44a111aclevel0_row1\" class=\"row_heading level0 row1\" >178</th>\n",
       "                        <th id=\"T_c36fc382_c557_11ea_88f3_e82a44a111aclevel1_row1\" class=\"row_heading level1 row1\" >Oathbreaker, Last Hope of the Breaking Storm</th>\n",
       "                        <td id=\"T_c36fc382_c557_11ea_88f3_e82a44a111acrow1_col0\" class=\"data row1 col0\" >12</td>\n",
       "                        <td id=\"T_c36fc382_c557_11ea_88f3_e82a44a111acrow1_col1\" class=\"data row1 col1\" >$4.23</td>\n",
       "                        <td id=\"T_c36fc382_c557_11ea_88f3_e82a44a111acrow1_col2\" class=\"data row1 col2\" >$50.76</td>\n",
       "            </tr>\n",
       "            <tr>\n",
       "                        <th id=\"T_c36fc382_c557_11ea_88f3_e82a44a111aclevel0_row2\" class=\"row_heading level0 row2\" >108</th>\n",
       "                        <th id=\"T_c36fc382_c557_11ea_88f3_e82a44a111aclevel1_row2\" class=\"row_heading level1 row2\" >Extraction, Quickblade Of Trembling Hands</th>\n",
       "                        <td id=\"T_c36fc382_c557_11ea_88f3_e82a44a111acrow2_col0\" class=\"data row2 col0\" >9</td>\n",
       "                        <td id=\"T_c36fc382_c557_11ea_88f3_e82a44a111acrow2_col1\" class=\"data row2 col1\" >$3.53</td>\n",
       "                        <td id=\"T_c36fc382_c557_11ea_88f3_e82a44a111acrow2_col2\" class=\"data row2 col2\" >$31.77</td>\n",
       "            </tr>\n",
       "            <tr>\n",
       "                        <th id=\"T_c36fc382_c557_11ea_88f3_e82a44a111aclevel0_row3\" class=\"row_heading level0 row3\" >82</th>\n",
       "                        <th id=\"T_c36fc382_c557_11ea_88f3_e82a44a111aclevel1_row3\" class=\"row_heading level1 row3\" >Nirvana</th>\n",
       "                        <td id=\"T_c36fc382_c557_11ea_88f3_e82a44a111acrow3_col0\" class=\"data row3 col0\" >9</td>\n",
       "                        <td id=\"T_c36fc382_c557_11ea_88f3_e82a44a111acrow3_col1\" class=\"data row3 col1\" >$4.90</td>\n",
       "                        <td id=\"T_c36fc382_c557_11ea_88f3_e82a44a111acrow3_col2\" class=\"data row3 col2\" >$44.10</td>\n",
       "            </tr>\n",
       "            <tr>\n",
       "                        <th id=\"T_c36fc382_c557_11ea_88f3_e82a44a111aclevel0_row4\" class=\"row_heading level0 row4\" >145</th>\n",
       "                        <th id=\"T_c36fc382_c557_11ea_88f3_e82a44a111aclevel1_row4\" class=\"row_heading level1 row4\" >Fiery Glass Crusader</th>\n",
       "                        <td id=\"T_c36fc382_c557_11ea_88f3_e82a44a111acrow4_col0\" class=\"data row4 col0\" >9</td>\n",
       "                        <td id=\"T_c36fc382_c557_11ea_88f3_e82a44a111acrow4_col1\" class=\"data row4 col1\" >$4.58</td>\n",
       "                        <td id=\"T_c36fc382_c557_11ea_88f3_e82a44a111acrow4_col2\" class=\"data row4 col2\" >$41.22</td>\n",
       "            </tr>\n",
       "    </tbody></table>"
      ],
      "text/plain": [
       "<pandas.io.formats.style.Styler at 0x186a57a6048>"
      ]
     },
     "execution_count": 12,
     "metadata": {},
     "output_type": "execute_result"
    }
   ],
   "source": [
    "# Most Popular Items\n",
    "popular_df = heroes_df[['Item ID','Item Name','Price']]\n",
    "def purchase_count(group):\n",
    "    pc = group['Item Name'].count()\n",
    "    group['Purchase Count'] = pc\n",
    "    return group\n",
    "def total_purchase(group):\n",
    "    tp = group['Price'].sum()\n",
    "    group['Total Purchase Value'] = tp\n",
    "    return group\n",
    "popular_df = popular_df.groupby(['Item ID','Item Name']).apply(purchase_count)\n",
    "popular_df = popular_df.groupby(['Item ID','Item Name']).apply(total_purchase)\n",
    "popular_df = popular_df.drop_duplicates(['Item Name'])\n",
    "popular_df = popular_df.sort_values('Purchase Count', ascending=False)\n",
    "popular_df.set_index(['Item ID','Item Name'], inplace = True, drop = True)\n",
    "popular_df.rename(columns = {'Price':'Item Price'}, inplace = True)\n",
    "popular_df = popular_df[['Purchase Count', 'Item Price', 'Total Purchase Value']]\n",
    "popular_df.head().style.format({'Item Price': '${:.2f}',\n",
    "                                        'Total Purchase Value': '${:,.2f}'})"
   ]
  },
  {
   "cell_type": "code",
   "execution_count": 13,
   "metadata": {},
   "outputs": [
    {
     "data": {
      "text/html": [
       "<style  type=\"text/css\" >\n",
       "</style><table id=\"T_c5e5440c_c557_11ea_97e5_e82a44a111ac\" ><thead>    <tr>        <th class=\"blank\" ></th>        <th class=\"blank level0\" ></th>        <th class=\"col_heading level0 col0\" >Purchase Count</th>        <th class=\"col_heading level0 col1\" >Item Price</th>        <th class=\"col_heading level0 col2\" >Total Purchase Value</th>    </tr>    <tr>        <th class=\"index_name level0\" >Item ID</th>        <th class=\"index_name level1\" >Item Name</th>        <th class=\"blank\" ></th>        <th class=\"blank\" ></th>        <th class=\"blank\" ></th>    </tr></thead><tbody>\n",
       "                <tr>\n",
       "                        <th id=\"T_c5e5440c_c557_11ea_97e5_e82a44a111aclevel0_row0\" class=\"row_heading level0 row0\" >92</th>\n",
       "                        <th id=\"T_c5e5440c_c557_11ea_97e5_e82a44a111aclevel1_row0\" class=\"row_heading level1 row0\" >Final Critic</th>\n",
       "                        <td id=\"T_c5e5440c_c557_11ea_97e5_e82a44a111acrow0_col0\" class=\"data row0 col0\" >13</td>\n",
       "                        <td id=\"T_c5e5440c_c557_11ea_97e5_e82a44a111acrow0_col1\" class=\"data row0 col1\" >$4.88</td>\n",
       "                        <td id=\"T_c5e5440c_c557_11ea_97e5_e82a44a111acrow0_col2\" class=\"data row0 col2\" >$59.99</td>\n",
       "            </tr>\n",
       "            <tr>\n",
       "                        <th id=\"T_c5e5440c_c557_11ea_97e5_e82a44a111aclevel0_row1\" class=\"row_heading level0 row1\" >178</th>\n",
       "                        <th id=\"T_c5e5440c_c557_11ea_97e5_e82a44a111aclevel1_row1\" class=\"row_heading level1 row1\" >Oathbreaker, Last Hope of the Breaking Storm</th>\n",
       "                        <td id=\"T_c5e5440c_c557_11ea_97e5_e82a44a111acrow1_col0\" class=\"data row1 col0\" >12</td>\n",
       "                        <td id=\"T_c5e5440c_c557_11ea_97e5_e82a44a111acrow1_col1\" class=\"data row1 col1\" >$4.23</td>\n",
       "                        <td id=\"T_c5e5440c_c557_11ea_97e5_e82a44a111acrow1_col2\" class=\"data row1 col2\" >$50.76</td>\n",
       "            </tr>\n",
       "            <tr>\n",
       "                        <th id=\"T_c5e5440c_c557_11ea_97e5_e82a44a111aclevel0_row2\" class=\"row_heading level0 row2\" >82</th>\n",
       "                        <th id=\"T_c5e5440c_c557_11ea_97e5_e82a44a111aclevel1_row2\" class=\"row_heading level1 row2\" >Nirvana</th>\n",
       "                        <td id=\"T_c5e5440c_c557_11ea_97e5_e82a44a111acrow2_col0\" class=\"data row2 col0\" >9</td>\n",
       "                        <td id=\"T_c5e5440c_c557_11ea_97e5_e82a44a111acrow2_col1\" class=\"data row2 col1\" >$4.90</td>\n",
       "                        <td id=\"T_c5e5440c_c557_11ea_97e5_e82a44a111acrow2_col2\" class=\"data row2 col2\" >$44.10</td>\n",
       "            </tr>\n",
       "            <tr>\n",
       "                        <th id=\"T_c5e5440c_c557_11ea_97e5_e82a44a111aclevel0_row3\" class=\"row_heading level0 row3\" >145</th>\n",
       "                        <th id=\"T_c5e5440c_c557_11ea_97e5_e82a44a111aclevel1_row3\" class=\"row_heading level1 row3\" >Fiery Glass Crusader</th>\n",
       "                        <td id=\"T_c5e5440c_c557_11ea_97e5_e82a44a111acrow3_col0\" class=\"data row3 col0\" >9</td>\n",
       "                        <td id=\"T_c5e5440c_c557_11ea_97e5_e82a44a111acrow3_col1\" class=\"data row3 col1\" >$4.58</td>\n",
       "                        <td id=\"T_c5e5440c_c557_11ea_97e5_e82a44a111acrow3_col2\" class=\"data row3 col2\" >$41.22</td>\n",
       "            </tr>\n",
       "            <tr>\n",
       "                        <th id=\"T_c5e5440c_c557_11ea_97e5_e82a44a111aclevel0_row4\" class=\"row_heading level0 row4\" >103</th>\n",
       "                        <th id=\"T_c5e5440c_c557_11ea_97e5_e82a44a111aclevel1_row4\" class=\"row_heading level1 row4\" >Singed Scalpel</th>\n",
       "                        <td id=\"T_c5e5440c_c557_11ea_97e5_e82a44a111acrow4_col0\" class=\"data row4 col0\" >8</td>\n",
       "                        <td id=\"T_c5e5440c_c557_11ea_97e5_e82a44a111acrow4_col1\" class=\"data row4 col1\" >$4.35</td>\n",
       "                        <td id=\"T_c5e5440c_c557_11ea_97e5_e82a44a111acrow4_col2\" class=\"data row4 col2\" >$34.80</td>\n",
       "            </tr>\n",
       "    </tbody></table>"
      ],
      "text/plain": [
       "<pandas.io.formats.style.Styler at 0x186a5295f48>"
      ]
     },
     "execution_count": 13,
     "metadata": {},
     "output_type": "execute_result"
    }
   ],
   "source": [
    "# Most Profitable Items\n",
    "profitable_df = popular_df.sort_values('Total Purchase Value', ascending=False)\n",
    "profitable_df.head().style.format({'Item Price': '${:.2f}',\n",
    "                                        'Total Purchase Value': '${:,.2f}'})"
   ]
  },
  {
   "cell_type": "code",
   "execution_count": null,
   "metadata": {},
   "outputs": [],
   "source": []
  }
 ],
 "metadata": {
  "kernelspec": {
   "display_name": "Python 3",
   "language": "python",
   "name": "python3"
  },
  "language_info": {
   "codemirror_mode": {
    "name": "ipython",
    "version": 3
   },
   "file_extension": ".py",
   "mimetype": "text/x-python",
   "name": "python",
   "nbconvert_exporter": "python",
   "pygments_lexer": "ipython3",
   "version": "3.7.6"
  }
 },
 "nbformat": 4,
 "nbformat_minor": 4
}
